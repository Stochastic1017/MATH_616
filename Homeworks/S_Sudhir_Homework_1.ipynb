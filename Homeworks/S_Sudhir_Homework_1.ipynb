{
 "cells": [
  {
   "cell_type": "markdown",
   "metadata": {},
   "source": [
    "***\n",
    "# Homework 1\n",
    "\n",
    "**Course:** MATH 616 - Data-Driven Dynamical Systems, Stochastic Modeling and Prediction\n",
    "\n",
    "**Name:** Shrivats Sudhir\n",
    "\n",
    "**NetID:** ssudhir2\n",
    "\n",
    "**Email:** ssudhir2@wisc.edu\n",
    "\n",
    "**Date:** September 9th, 2024\n",
    "***"
   ]
  },
  {
   "cell_type": "markdown",
   "metadata": {},
   "source": [
    "## Question 1.\n",
    "\n",
    "**Consider the linear damped-forced model:**\n",
    "$$ \\frac{du}{dt} = -au + f $$\n",
    "**where $a > 0$ and $f$ are both constants.**"
   ]
  },
  {
   "cell_type": "markdown",
   "metadata": {},
   "source": [
    "### (a.)\n",
    "\n",
    "**Derive the analytic solution of $u$ with initial condition being $u(t=0) = u_0$.**"
   ]
  },
  {
   "cell_type": "markdown",
   "metadata": {},
   "source": [
    "### (b.)\n",
    "\n",
    "**Use the forward Euler method to numerically solve the equation. Here, use the initial condition $u_0=5$. The parameters are $a=0.5$ and $f=2$. Run the model starting from $t=0$ and ending at $t=2$.**"
   ]
  },
  {
   "cell_type": "markdown",
   "metadata": {},
   "source": [
    "#### (i)\n",
    "\n",
    "**Plot the numerical solution (using one choice of time step) and the analytic solution.**"
   ]
  },
  {
   "cell_type": "markdown",
   "metadata": {},
   "source": [
    "#### (ii)\n",
    "\n",
    "**Compute the error in the numerical solution (compared with the analytic solution) at $t=2$ using different numerical integration time steps $\\Delta t = 10^{-5}, 5 \\times 10^{-5}, 10^{-4}, 5 \\times 10^{-4}, 10^{-3}$ and $5 \\times 10^{-3}$. Plot a curve, where the x-axis is the time step and the y-axis is the absolute error. Use log scale for both x and y axes and write down the slope.**"
   ]
  },
  {
   "cell_type": "markdown",
   "metadata": {},
   "source": [
    "**What did we learn here? The forward Euler method can be used to find a numerical solution to an ODE, and the numerical solution converges toward the true solution with a first-order rate of convergence (i.e., the error decreases as $\\approx \\Delta t$, not $\\approx \\Delta t^2$ or something else).**"
   ]
  },
  {
   "cell_type": "markdown",
   "metadata": {},
   "source": [
    "## Question 2."
   ]
  },
  {
   "cell_type": "markdown",
   "metadata": {},
   "source": []
  }
 ],
 "metadata": {
  "language_info": {
   "name": "python"
  }
 },
 "nbformat": 4,
 "nbformat_minor": 2
}
