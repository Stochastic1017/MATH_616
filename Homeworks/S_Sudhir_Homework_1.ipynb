{
 "cells": [
  {
   "cell_type": "markdown",
   "metadata": {},
   "source": [
    "***\n",
    "# Homework 1\n",
    "\n",
    "**Course:** MATH 616 - Data-Driven Dynamical Systems, Stochastic Modeling and Prediction\n",
    "\n",
    "**Name:** Shrivats Sudhir\n",
    "\n",
    "**NetID:** ssudhir2\n",
    "\n",
    "**Email:** ssudhir2@wisc.edu\n",
    "\n",
    "**Date:** September 9th, 2024\n",
    "***"
   ]
  },
  {
   "cell_type": "markdown",
   "metadata": {},
   "source": [
    "## Question 1.\n",
    "\n",
    "**Consider the linear damped-forced model:**\n",
    "$$ \\frac{du}{dt} = -au + f $$\n",
    "**where $a > 0$ and $f$ are both constants.**"
   ]
  },
  {
   "cell_type": "markdown",
   "metadata": {},
   "source": [
    "### (a.)\n",
    "\n",
    "**Derive the analytic solution of $u$ with initial condition being $u(t=0) = u_0$.**"
   ]
  },
  {
   "cell_type": "markdown",
   "metadata": {},
   "source": [
    "### (b.)\n",
    "\n",
    "**Use the forward Euler method to numerically solve the equation. Here, use the initial condition $u_0=5$. The parameters are $a=0.5$ and $f=2$. Run the model starting from $t=0$ and ending at $t=2$.**"
   ]
  },
  {
   "cell_type": "markdown",
   "metadata": {},
   "source": []
  }
 ],
 "metadata": {
  "language_info": {
   "name": "python"
  }
 },
 "nbformat": 4,
 "nbformat_minor": 2
}
