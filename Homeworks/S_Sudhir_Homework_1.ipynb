{
 "cells": [
  {
   "cell_type": "markdown",
   "metadata": {},
   "source": [
    "***\n",
    "# Homework 1\n",
    "\n",
    "**Course:** MATH 616 - Data-Driven Dynamical Systems, Stochastic Modeling and Prediction\n",
    "\n",
    "**Name:** Shrivats Sudhir\n",
    "\n",
    "**NetID:** ssudhir2\n",
    "\n",
    "**Email:** ssudhir2@wisc.edu\n",
    "\n",
    "**Date:** September 9th, 2024\n",
    "***"
   ]
  },
  {
   "cell_type": "markdown",
   "metadata": {},
   "source": [
    "## Question 1.\n",
    "\n",
    "**Consider the linear damped-forced model:**\n",
    "$$ \\frac{du}{dt} = -au + f $$\n",
    "**where $a > 0$ and $f$ are both constants.**"
   ]
  },
  {
   "cell_type": "markdown",
   "metadata": {},
   "source": [
    "### (a.)\n",
    "\n",
    "**Derive the analytic solution of $u$ with initial condition being $u(t=0) = u_0$.**"
   ]
  },
  {
   "cell_type": "markdown",
   "metadata": {},
   "source": [
    "### (b.)\n",
    "\n",
    "**Use the forward Euler method to numerically solve the equation. Here, use the initial condition $u_0=5$. The parameters are $a=0.5$ and $f=2$. Run the model starting from $t=0$ and ending at $t=2$.**"
   ]
  },
  {
   "cell_type": "markdown",
   "metadata": {},
   "source": [
    "#### (i)\n",
    "\n",
    "**Plot the numerical solution (using one choice of time step) and the analytic solution.**"
   ]
  },
  {
   "cell_type": "markdown",
   "metadata": {},
   "source": [
    "#### (ii)\n",
    "\n",
    "**Compute the error in the numerical solution (compared with the analytic solution) at $t=2$ using different numerical integration time steps $\\Delta t = 10^{-5}, 5 \\times 10^{-5}, 10^{-4}, 5 \\times 10^{-4}, 10^{-3}$ and $5 \\times 10^{-3}$. Plot a curve, where the x-axis is the time step and the y-axis is the absolute error. Use log scale for both x and y axes and write down the slope.**"
   ]
  },
  {
   "cell_type": "markdown",
   "metadata": {},
   "source": [
    "**What did we learn here? The forward Euler method can be used to find a numerical solution to an ODE, and the numerical solution converges toward the true solution with a first-order rate of convergence (i.e., the error decreases as $\\approx \\Delta t$, not $\\approx \\Delta t^2$ or something else).**"
   ]
  },
  {
   "cell_type": "markdown",
   "metadata": {},
   "source": [
    "## Question 2."
   ]
  },
  {
   "cell_type": "markdown",
   "metadata": {},
   "source": [
    "**Consider the model with a cubic nonlinearity:**\n",
    "\n",
    "$$\\frac{du}{dt} = au + bu^2 - cu^3 + f$$\n",
    "\n",
    "**Let us fix two parameters $b = -4$ and $c = 4$. Then, depending on the choices of $a$ and $f$, the system will have distinct behavior. Numerically validate the solution behavior by using the forward Euler method and starting from different initial values:**"
   ]
  },
  {
   "cell_type": "markdown",
   "metadata": {},
   "source": [
    "### (a.)\n",
    "\n",
    "**When $a=4$ and $f=10$, the three roots of $au+bu^2-cu^3+f=0$ are $r_1 = 1.2868$ and $r_{2,3} = -1.1434 \\pm 0.7971i$.**"
   ]
  },
  {
   "cell_type": "markdown",
   "metadata": {},
   "source": [
    "#### (i.)\n",
    "\n",
    "**Plot $au+bu^2-cu^3+f$ as a function of $u$ for the given values of parameters $a,b,c,f$.**"
   ]
  },
  {
   "cell_type": "markdown",
   "metadata": {},
   "source": [
    "#### (ii.)\n",
    "\n",
    "**Select different values of the initial condition $u_0$, and plot the numerical solutions in order to illustrate different solution behavior for different $u_0$.**"
   ]
  },
  {
   "cell_type": "markdown",
   "metadata": {},
   "source": [
    "### (b.)\n",
    "\n",
    "**When $a=4$ and $f=2$, the three roots of $au+bu^2-cu^3+f=0$ are\n",
    "$r_1 = -1.4516$, $r_2 = 0.8546$ and $r_3 = -0.4030$.**"
   ]
  },
  {
   "cell_type": "markdown",
   "metadata": {},
   "source": [
    "#### (i.) \n",
    "\n",
    "**Plot $au+bu^2-cu^3+f$ as a function of $u$ for the given values of parameters $a,b,c,f$.**"
   ]
  },
  {
   "cell_type": "markdown",
   "metadata": {},
   "source": [
    "#### (ii.)\n",
    "\n",
    "**Select different values of the initial condition $u_0$, and plot the numerical solutions in order to illustrate different solution behavior for different $u_0$.**"
   ]
  },
  {
   "cell_type": "markdown",
   "metadata": {},
   "source": [
    "**What did we learn here? Nonlinear ODEs can potentially have multiple equilibria, or only one or zero equilibria, depending on the nonlinearity and the parameter values. Furthermore, the equilibrium points can be either stable or unstable.**"
   ]
  },
  {
   "cell_type": "markdown",
   "metadata": {},
   "source": [
    "## Question 3.\n",
    "\n",
    "**Consider the 2-dimensional linear model:**\n",
    "\n",
    "$$ \\frac{du_1}{dt} = -au_1 + \\omega u_2 + f_1$$\n",
    "$$ \\frac{du_2}{dt} = -\\omega u_1 - a u_2 + f_2$$\n",
    "\n",
    "**Use the forward Euler method to numerically solve the equation and plot the trajectories of $(u_1, u_2)$ in the two-dimensional space. Discuss the difference in the following three situations: (a) $a = 0$, (b) $a = 1$, and (c) $a = −1$. You may fix other parameters $\\omega = 1$ and $f_1 = f_2 = 0$.**"
   ]
  },
  {
   "cell_type": "markdown",
   "metadata": {
    "vscode": {
     "languageId": "plaintext"
    }
   },
   "source": [
    "**What did we learn here? Phase portraits can be helpful for characterizing the different behaviors of dynamical systems.**"
   ]
  },
  {
   "cell_type": "markdown",
   "metadata": {},
   "source": [
    "## Question 4.\n",
    "\n",
    "**Consider a Gaussian random variable $\\mathbf{x} = (x_1, x_2)^T$ with the mean $\\mathbf{\\mu}$ and the covariance matrix $\\mathbf{\\Sigma}$ being in the following form,**\n",
    "$$ \\mathbf{\\mu} = \\begin{pmatrix} \\mathbf{\\mu_1}\\\\ \\mathbf{\\mu_2} \\end{pmatrix}, \\quad \\mathbf{\\Sigma} = \\begin{pmatrix} \\mathbf{\\Sigma_{11}} & \\mathbf{\\Sigma_{12}}\\\\ \\mathbf{\\Sigma_{21}} & \\mathbf{\\Sigma_{22}} \\end{pmatrix} $$\n",
    "**where $\\mathbf{x}_1$ and $\\mathbf{x}_2$ are multi-dimensional.** \n",
    "\n",
    "**Show that the conditional desntiy is then given by:**\n",
    "$$ p(\\mathbf{x}_1 | \\mathbf{x}_2) \\sim \\mathcal{N}(\\bar{\\mathbf{\\mu}}, \\bar{\\mathbf{\\Sigma}}) $$\n",
    "**where**\n",
    "$$ \\bar{\\mathbf{\\mu}} = \\mathbf{\\mu}_1 + \\mathbf{\\Sigma_{12}}\\mathbf{\\Sigma_{22}^{-1}}(\\mathbf{x_2} - \\mathbf{\\mu_2}) \\quad \\text{and} \\quad \\bar{\\mathbf{\\Sigma}} = \\mathbf{\\Sigma_{11}} - \\mathbf{\\Sigma_{12}}\\mathbf{\\Sigma_{22}^{-1}}\\mathbf{\\Sigma_{21}} $$"
   ]
  },
  {
   "cell_type": "markdown",
   "metadata": {},
   "source": [
    "**What did we learn here? For a multivariate Gaussian random variable, the conditional distribution is also Gaussian. Moreover, an analytical formula can be derived for the conditional mean and conditional covariance.**"
   ]
  },
  {
   "cell_type": "markdown",
   "metadata": {},
   "source": []
  }
 ],
 "metadata": {
  "language_info": {
   "name": "python"
  }
 },
 "nbformat": 4,
 "nbformat_minor": 2
}
