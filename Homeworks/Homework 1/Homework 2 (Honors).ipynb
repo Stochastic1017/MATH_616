{
 "cells": [
  {
   "cell_type": "markdown",
   "metadata": {},
   "source": [
    "***\n",
    "\n",
    "# Homework 2 (Honors)\n",
    "\n",
    "**Course:** MATH 616 - Data-Driven Dynamical Systems, Stochastic Modeling and Prediction\n",
    "\n",
    "**Name:** Shrivats Sudhir\n",
    "\n",
    "**NetID:** ssudhir2\n",
    "\n",
    "**Email:** ssudhir2@wisc.edu\n",
    "\n",
    "***"
   ]
  },
  {
   "cell_type": "code",
   "execution_count": 1,
   "metadata": {},
   "outputs": [],
   "source": [
    "import pandas as pd\n",
    "import numpy as np"
   ]
  },
  {
   "cell_type": "code",
   "execution_count": null,
   "metadata": {},
   "outputs": [],
   "source": []
  }
 ],
 "metadata": {
  "kernelspec": {
   "display_name": "Python 3",
   "language": "python",
   "name": "python3"
  },
  "language_info": {
   "codemirror_mode": {
    "name": "ipython",
    "version": 3
   },
   "file_extension": ".py",
   "mimetype": "text/x-python",
   "name": "python",
   "nbconvert_exporter": "python",
   "pygments_lexer": "ipython3",
   "version": "3.12.3"
  }
 },
 "nbformat": 4,
 "nbformat_minor": 2
}
