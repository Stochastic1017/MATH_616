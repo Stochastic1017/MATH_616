{
 "cells": [
  {
   "cell_type": "markdown",
   "metadata": {},
   "source": [
    "***\n",
    "\n",
    "# Homework 3\n",
    "\n",
    "**Course:** MATH 616 - Data-Driven Dynamical Systems, Stochastic Modeling and Prediction\n",
    "\n",
    "**Name:** Shrivats Sudhir\n",
    "\n",
    "**NetID:** ssudhir2\n",
    "\n",
    "**Email:** ssudhir2@wisc.edu\n",
    "\n",
    "***"
   ]
  },
  {
   "cell_type": "markdown",
   "metadata": {},
   "source": [
    "# Question 1."
   ]
  },
  {
   "cell_type": "markdown",
   "metadata": {},
   "source": [
    "**Consider the linear Gaussian model,**\n",
    "\n",
    "$$dxt = (−aX_t + f_t)\\;d_t + \\sigma \\; dW_t,$$\n",
    "\n",
    "**where $a > 0$ and $\\sigma > 0$ are constants, and $f_t$ can depend on time.**\n",
    "\n",
    "**Derive the time evolution of the second-order moment $\\langle x_t^2 \\rangle$.**"
   ]
  },
  {
   "cell_type": "markdown",
   "metadata": {},
   "source": [
    "# Question 2."
   ]
  },
  {
   "cell_type": "markdown",
   "metadata": {},
   "source": [
    "**Consider the linear model with multiplicative noise:**\n",
    "\n",
    "$$d\\,x(t) = [−a\\,x(t) + f]\\;dt + bx(t)\\;dW_{b}(t) + c\\;dWc(t)$$\n",
    "\n",
    "**Use the parameters: $a = 5, b = 1, c = 0.3, f = 0.9$. The initial value is deterministic\n",
    "$x(0) = 1.$**"
   ]
  },
  {
   "cell_type": "markdown",
   "metadata": {},
   "source": [
    "## (a.)\n",
    "\n",
    "**Derive the moment equations for the time evolution of mean, variance, skewness and\n",
    "kurtosis.**"
   ]
  },
  {
   "cell_type": "markdown",
   "metadata": {},
   "source": [
    "## (b.)\n",
    "\n",
    "**Use Monte Carlo simulation of the system to validate the theoretic results.**"
   ]
  },
  {
   "cell_type": "markdown",
   "metadata": {},
   "source": [
    "# Question 3.\n",
    "\n",
    "**Consider a linear SDE with multiplicative noise. If our target distribution is the uniform distribution:**\n",
    "\n",
    "$$p(x) = \\frac{1}{c-b}, \\quad b < x < c,$$\n",
    "\n",
    "**Then prove that the multiplicative noise in the corresponding SDE has the following form:**\n",
    "\n",
    "$$dx(t) = \\lambda \\bigg(x(t) - \\frac{b+c}{2}\\bigg)\\;dt + \\sqrt{\\lambda (x-b) (c-x)}\\;dW(t)$$"
   ]
  },
  {
   "cell_type": "markdown",
   "metadata": {},
   "source": [
    "# Question 4.\n",
    "\n",
    "**Consider the following linear Gaussian model:**\n",
    "\n",
    "$$dx(t) = [-ax(t) + f]\\;dt + \\sigma\\;dW(t),$$\n",
    "\n",
    "**with parameters $a=0.5$, $f=1$, and $\\sigma=0.4$.**"
   ]
  },
  {
   "cell_type": "markdown",
   "metadata": {},
   "source": [
    "## (a.)\n",
    "\n",
    "**The initial value is given by a Gaussian distribution with mean $0$ and variance $0.01$.**\n",
    "\n",
    "**Write down the time evolution of the mean and variance. Then, compute Shannon's entropy as a function of time.**"
   ]
  },
  {
   "cell_type": "markdown",
   "metadata": {},
   "source": [
    "## (b.)\n",
    "\n",
    "**Then change the initial value to another Gaussian distribution with mean $1$ and variance $0.01$. Repeat the above procedure to see if the time evolution of Shannon’s entropy is different.**"
   ]
  },
  {
   "cell_type": "markdown",
   "metadata": {},
   "source": []
  }
 ],
 "metadata": {
  "language_info": {
   "name": "python"
  }
 },
 "nbformat": 4,
 "nbformat_minor": 2
}
