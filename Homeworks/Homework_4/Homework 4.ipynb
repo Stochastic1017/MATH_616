{
 "cells": [
  {
   "cell_type": "markdown",
   "metadata": {},
   "source": [
    "***\n",
    "\n",
    "# Homework 4\n",
    "\n",
    "**Course:** MATH 616 - Data-Driven Dynamical Systems, Stochastic Modeling and Prediction\n",
    "\n",
    "**Name:** Shrivats Sudhir\n",
    "\n",
    "**NetID:** ssudhir2\n",
    "\n",
    "**Email:** ssudhir2@wisc.edu\n",
    "\n",
    "***"
   ]
  },
  {
   "cell_type": "code",
   "execution_count": 2,
   "metadata": {},
   "outputs": [],
   "source": [
    "import numpy as np\n",
    "from scipy.stats import multivariate_normal"
   ]
  },
  {
   "cell_type": "markdown",
   "metadata": {},
   "source": [
    "# Question 1.\n",
    "\n",
    "**Consider the following 2-dimensional linear Gaussian model:**\n",
    "\n",
    "$$d\\;x(t) = [a \\cdot x(t) + f]\\;dt + \\sigma_{x}\\;dW_{x}(t)$$"
   ]
  },
  {
   "cell_type": "markdown",
   "metadata": {},
   "source": [
    "## (a.)\n",
    "\n",
    "**Write down a general code for Kalman filter and show the numerical results with $a = f = \\sigma_{x} = 1$, the observational time step $\\Delta t = 0.4$ and the observational noise level $\\sigma_0 = 0.5$.**\n",
    "\n",
    "**You may consider a time series with the total length $T = 500$.**"
   ]
  },
  {
   "cell_type": "code",
   "execution_count": null,
   "metadata": {},
   "outputs": [],
   "source": [
    "def kalman_filter_SDE(u, A, F, N, M):\n",
    "    u = np.zeros((M, 1))\n",
    "    v = np.zeros((N, 1))\n",
    "\n",
    "    "
   ]
  },
  {
   "cell_type": "markdown",
   "metadata": {},
   "source": [
    "(b). Show the root-mean-square error (RMSE) in the posterior mean as a function of\n",
    "σo (keep other parameters the same as above). You may consider a time series with the\n",
    "total length T = 500 and compute the RMSE from the period from t = 50 to 500.**"
   ]
  },
  {
   "cell_type": "markdown",
   "metadata": {},
   "source": []
  }
 ],
 "metadata": {
  "kernelspec": {
   "display_name": "Python 3",
   "language": "python",
   "name": "python3"
  },
  "language_info": {
   "codemirror_mode": {
    "name": "ipython",
    "version": 3
   },
   "file_extension": ".py",
   "mimetype": "text/x-python",
   "name": "python",
   "nbconvert_exporter": "python",
   "pygments_lexer": "ipython3",
   "version": "3.12.3"
  }
 },
 "nbformat": 4,
 "nbformat_minor": 2
}
