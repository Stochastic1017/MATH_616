{
 "cells": [
  {
   "cell_type": "markdown",
   "metadata": {},
   "source": [
    "***\n",
    "# Homework 2\n",
    "\n",
    "**Course:** MATH 616 - Data-Driven Dynamical Systems, Stochastic Modeling and Prediction\n",
    "\n",
    "**Name:** Shrivats Sudhir\n",
    "\n",
    "**NetID:** ssudhir2\n",
    "\n",
    "**Email:** ssudhir2@wisc.edu\n",
    "\n",
    "***"
   ]
  },
  {
   "cell_type": "code",
   "execution_count": 1,
   "metadata": {},
   "outputs": [],
   "source": [
    "import random\n",
    "import numpy as np\n",
    "import pandas as pd\n",
    "import matplotlib.pyplot as plt\n",
    "from matplotlib import colormaps as cm"
   ]
  },
  {
   "cell_type": "markdown",
   "metadata": {},
   "source": [
    "# Question 1.\n",
    "\n",
    "**Assume $x_t$ satisfies the SDE:**\n",
    "$$d x_t = a_t\\;dt + b_t\\;dW_t,$$"
   ]
  },
  {
   "cell_type": "markdown",
   "metadata": {},
   "source": [
    "## (a.)\n",
    "\n",
    "**Derive the SDE of $f(x_t)$ when $f(x_t)=\\frac{1}{2}x^2_t$**"
   ]
  },
  {
   "cell_type": "markdown",
   "metadata": {},
   "source": [
    "## (b.)\n",
    "\n",
    "**Derive the SDE of $f(W_t)$ when $f(W_t)=W^4_t$**"
   ]
  },
  {
   "cell_type": "markdown",
   "metadata": {},
   "source": [
    "# Question 2.\n",
    "\n",
    "**Consider a two-state Markov chain with state space $S=\\{1,2\\}$ and transition probabilities $p=0.125$ and $q=0.25$. Numerically generate a long time series, using which to compute the expectation, the probably at each state, and the $n$-step transition probability matrix for $n=10$ and $n=100$. Compare your numerical results with the theoretical solutions.**"
   ]
  },
  {
   "cell_type": "markdown",
   "metadata": {},
   "source": [
    "# Question 3.\n",
    "\n",
    "**Use Monte Carlo simulations to compute the mean of a one-dimensional standard Gaussian distribution (with zero mean and variance being $1$). How many Monte Carlo sample points is needed if the standard error is less than $0.05$?**"
   ]
  },
  {
   "cell_type": "markdown",
   "metadata": {},
   "source": [
    "# Question 4.\n",
    "\n",
    "**Please use Monte Carlo simulation to compute $\\sqrt{2}$. Show the standard error as a function of number of samples.**"
   ]
  }
 ],
 "metadata": {
  "kernelspec": {
   "display_name": "Python 3",
   "language": "python",
   "name": "python3"
  },
  "language_info": {
   "codemirror_mode": {
    "name": "ipython",
    "version": 3
   },
   "file_extension": ".py",
   "mimetype": "text/x-python",
   "name": "python",
   "nbconvert_exporter": "python",
   "pygments_lexer": "ipython3",
   "version": "3.12.3"
  }
 },
 "nbformat": 4,
 "nbformat_minor": 2
}
