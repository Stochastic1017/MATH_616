{
 "cells": [
  {
   "cell_type": "markdown",
   "metadata": {},
   "source": [
    "***\n",
    "# Homework 2\n",
    "\n",
    "**Course:** MATH 616 - Data-Driven Dynamical Systems, Stochastic Modeling and Prediction\n",
    "\n",
    "**Name:** Shrivats Sudhir\n",
    "\n",
    "**NetID:** ssudhir2\n",
    "\n",
    "**Email:** ssudhir2@wisc.edu\n",
    "\n",
    "***"
   ]
  },
  {
   "cell_type": "code",
   "execution_count": 1,
   "metadata": {},
   "outputs": [],
   "source": [
    "import random\n",
    "import numpy as np\n",
    "import pandas as pd\n",
    "import matplotlib.pyplot as plt\n",
    "from matplotlib import colormaps as cm"
   ]
  },
  {
   "cell_type": "markdown",
   "metadata": {},
   "source": [
    "# Question 1.\n",
    "\n",
    "**Assume $x_t$ satisfies the SDE:**\n",
    "$$d x_t = a_t\\;dt + b_t\\;dW_t,$$"
   ]
  },
  {
   "cell_type": "markdown",
   "metadata": {},
   "source": [
    "## (a.)\n",
    "\n",
    "**Derive the SDE of $f(x_t)$ when $f(x_t)=\\frac{1}{2}x^2_t$**"
   ]
  },
  {
   "cell_type": "markdown",
   "metadata": {},
   "source": [
    "## (b.)\n",
    "\n",
    "**Derive the SDE of $f(W_t)$ when $f(W_t)=W^4_t$**"
   ]
  },
  {
   "cell_type": "markdown",
   "metadata": {},
   "source": [
    "# Question 2.\n",
    "\n",
    "**Consider a two-state Markov chain with state space $S=\\{1,2\\}$ and transition probabilities $p=0.125$ and $q=0.25$. Numerically generate a long time series, using which to compute the expectation, the probably at each state, and the $n$-step transition probability matrix for $n=10$ and $n=100$. Compare your numerical results with the theoretical solutions.**"
   ]
  },
  {
   "cell_type": "markdown",
   "metadata": {},
   "source": [
    "# Question 3.\n",
    "\n",
    "**Use Monte Carlo simulations to compute the mean of a one-dimensional standard Gaussian distribution (with zero mean and variance being $1$). How many Monte Carlo sample points is needed if the standard error is less than $0.05$?**"
   ]
  },
  {
   "cell_type": "markdown",
   "metadata": {},
   "source": [
    "# Question 4.\n",
    "\n",
    "**Please use Monte Carlo simulation to compute $\\sqrt{2}$. Show the standard error as a function of number of samples.**"
   ]
  },
  {
   "cell_type": "code",
   "execution_count": 2,
   "metadata": {},
   "outputs": [
    {
     "name": "stdout",
     "output_type": "stream",
     "text": [
      "Estimate of square root of 0: 0.0\n",
      "Estimate of square root of 1: 1.0\n",
      "Estimate of square root of 2: 1.41678\n",
      "Estimate of square root of 3: 1.72473\n",
      "Estimate of square root of 4: 2.00516\n",
      "Estimate of square root of 5: 2.24745\n",
      "Estimate of square root of 6: 2.44926\n",
      "Estimate of square root of 7: 2.6566400000000003\n",
      "Estimate of square root of 8: 2.8452\n",
      "Estimate of square root of 9: 2.99727\n",
      "Estimate of square root of 10: 3.1546999999999996\n",
      "Estimate of square root of 11: 3.3225499999999997\n",
      "Estimate of square root of 12: 3.4619999999999997\n",
      "Estimate of square root of 13: 3.5851400000000004\n",
      "Estimate of square root of 14: 3.76712\n",
      "Estimate of square root of 15: 3.8703000000000003\n",
      "Estimate of square root of 16: 3.9992\n",
      "Estimate of square root of 17: 4.12828\n",
      "Estimate of square root of 18: 4.21722\n",
      "Estimate of square root of 19: 4.36126\n"
     ]
    }
   ],
   "source": [
    "import numpy as np\n",
    "import matplotlib.pyplot as plt\n",
    "\n",
    "def sqrt(n, iters=100000):\n",
    "    \n",
    "    \"\"\"\n",
    "    Use monte carlo simulation to estimate square root of a number.\n",
    "    \"\"\"\n",
    "\n",
    "    upper=n\n",
    "    points_inside=0\n",
    "    for _ in range(iters):\n",
    "        if random.uniform(0, upper)**2 <= n:\n",
    "            points_inside += 1\n",
    "    return n * (points_inside / iters)\n",
    "\n",
    "for i in range(20):\n",
    "    print(f\"Estimate of square root of {i}: {sqrt(i)}\")"
   ]
  },
  {
   "cell_type": "code",
   "execution_count": 3,
   "metadata": {},
   "outputs": [
    {
     "data": {
      "image/png": "[encoded data removed]",
      "text/plain": [
       "<Figure size 600x600 with 1 Axes>"
      ]
     },
     "metadata": {},
     "output_type": "display_data"
    }
   ],
   "source": [
    "def plot_monte_carlo_sqrt(n, num_points):\n",
    "\n",
    "    \"\"\"\n",
    "    Visualize the Monte Carlo simulation to estimate the square root of n\n",
    "    using random sampling in a geometrical approach.\n",
    "    Green points are inside the region, red points are outside.\n",
    "    \"\"\"\n",
    "\n",
    "    upper=n  # We take L to be the same as n for simplicity\n",
    "    points_inside=[]\n",
    "    points_outside=[]\n",
    "\n",
    "    for _ in range(num_points):\n",
    "        x = np.random.uniform(0, upper)\n",
    "        y = np.random.uniform(0, upper)\n",
    "        \n",
    "        # Check if the point is inside the region x^2 <= n\n",
    "        if x**2 <= n:\n",
    "            points_inside.append((x, y))\n",
    "        else:\n",
    "            points_outside.append((x, y))\n",
    "    \n",
    "    # Convert lists to arrays for plotting\n",
    "    points_inside = np.array(points_inside)\n",
    "    points_outside = np.array(points_outside)\n",
    "    \n",
    "    # Plotting the points\n",
    "    plt.figure(figsize=(6,6))\n",
    "    \n",
    "    # Plot points inside (green)\n",
    "    if len(points_inside) > 0:\n",
    "        plt.scatter(points_inside[:, 0], points_inside[:, 1], color='green', s=10)\n",
    "    \n",
    "    # Plot points outside (red)\n",
    "    if len(points_outside) > 0:\n",
    "        plt.scatter(points_outside[:, 0], points_outside[:, 1], color='red', s=10)\n",
    "    \n",
    "    # Plot decorations\n",
    "    plt.title(f\"Monte Carlo Visualization for sqrt({n}) with {num_points} points\")\n",
    "    plt.xlabel(\"x\")\n",
    "    plt.ylabel(\"y\")\n",
    "    plt.grid(True)\n",
    "    \n",
    "    # Plot the line representing sqrt(n)\n",
    "    plt.axvline(x=np.sqrt(n), color='black', linestyle='--', lw=2)\n",
    "    plt.xlim(0, upper)\n",
    "    plt.ylim(0, upper)\n",
    "    \n",
    "    plt.show()\n",
    "\n",
    "# Example usage\n",
    "plot_monte_carlo_sqrt(2, num_points=100000)"
   ]
  },
  {
   "cell_type": "code",
   "execution_count": null,
   "metadata": {},
   "outputs": [],
   "source": []
  }
 ],
 "metadata": {
  "kernelspec": {
   "display_name": "Python 3",
   "language": "python",
   "name": "python3"
  },
  "language_info": {
   "codemirror_mode": {
    "name": "ipython",
    "version": 3
   },
   "file_extension": ".py",
   "mimetype": "text/x-python",
   "name": "python",
   "nbconvert_exporter": "python",
   "pygments_lexer": "ipython3",
   "version": "3.12.3"
  }
 },
 "nbformat": 4,
 "nbformat_minor": 2
}
